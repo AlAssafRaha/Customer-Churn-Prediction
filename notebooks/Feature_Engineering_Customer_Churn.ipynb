{
 "cells": [
  {
   "cell_type": "markdown",
   "id": "c7f0d229",
   "metadata": {},
   "source": [
    "# Feature Engineering for Customer Churn Prediction\n",
    "\n",
    "This Jupyter Notebook demonstrates feature engineering techniques to enhance the predictive power of models using the Telco Customer Churn dataset.\n"
   ]
  },
  {
   "cell_type": "markdown",
   "id": "ef729196",
   "metadata": {},
   "source": [
    "## Import Libraries"
   ]
  },
  {
   "cell_type": "code",
   "execution_count": 1,
   "id": "0a7ae01b",
   "metadata": {},
   "outputs": [],
   "source": [
    "import pandas as pd\n",
    "import numpy as np\n",
    "from sklearn.preprocessing import PolynomialFeatures, StandardScaler\n",
    "import matplotlib.pyplot as plt\n",
    "import seaborn as sns"
   ]
  },
  {
   "cell_type": "markdown",
   "id": "a6448770",
   "metadata": {},
   "source": [
    "## Load the Data"
   ]
  },
  {
   "cell_type": "code",
   "execution_count": 2,
   "id": "21fe02b5",
   "metadata": {},
   "outputs": [],
   "source": [
    "# Load the dataset\n",
    "data_path = './processed_telco_churn.csv'\n",
    "df = pd.read_csv(data_path)"
   ]
  },
  {
   "cell_type": "code",
   "execution_count": 3,
   "id": "b56470bb",
   "metadata": {},
   "outputs": [
    {
     "name": "stdout",
     "output_type": "stream",
     "text": [
      "   gender  SeniorCitizen  Partner  Dependents    tenure  PhoneService  \\\n",
      "0       0              0        1           0 -1.277445             0   \n",
      "1       1              0        0           0  0.066327             1   \n",
      "2       1              0        0           0 -1.236724             1   \n",
      "3       1              0        0           0  0.514251             0   \n",
      "4       0              0        0           0 -1.236724             1   \n",
      "\n",
      "   PaperlessBilling  MonthlyCharges  TotalCharges  Churn  ...  \\\n",
      "0                 1       -1.160323     -0.994971      0  ...   \n",
      "1                 0       -0.259629     -0.173876      0  ...   \n",
      "2                 1       -0.362660     -0.960399      1  ...   \n",
      "3                 0       -0.746535     -0.195400      0  ...   \n",
      "4                 1        0.197365     -0.941193      1  ...   \n",
      "\n",
      "   StreamingTV_No internet service  StreamingTV_Yes  \\\n",
      "0                            False            False   \n",
      "1                            False            False   \n",
      "2                            False            False   \n",
      "3                            False            False   \n",
      "4                            False            False   \n",
      "\n",
      "   StreamingMovies_No internet service  StreamingMovies_Yes  \\\n",
      "0                                False                False   \n",
      "1                                False                False   \n",
      "2                                False                False   \n",
      "3                                False                False   \n",
      "4                                False                False   \n",
      "\n",
      "   Contract_One year  Contract_Two year  \\\n",
      "0              False              False   \n",
      "1               True              False   \n",
      "2              False              False   \n",
      "3               True              False   \n",
      "4              False              False   \n",
      "\n",
      "   PaymentMethod_Credit card (automatic)  PaymentMethod_Electronic check  \\\n",
      "0                                  False                            True   \n",
      "1                                  False                           False   \n",
      "2                                  False                           False   \n",
      "3                                  False                           False   \n",
      "4                                  False                            True   \n",
      "\n",
      "   PaymentMethod_Mailed check  tenure_bins  \n",
      "0                       False     0-1 year  \n",
      "1                        True    2-5 years  \n",
      "2                        True     0-1 year  \n",
      "3                       False    2-5 years  \n",
      "4                       False     0-1 year  \n",
      "\n",
      "[5 rows x 32 columns]\n",
      "Index(['gender', 'SeniorCitizen', 'Partner', 'Dependents', 'tenure',\n",
      "       'PhoneService', 'PaperlessBilling', 'MonthlyCharges', 'TotalCharges',\n",
      "       'Churn', 'MultipleLines_No phone service', 'MultipleLines_Yes',\n",
      "       'InternetService_Fiber optic', 'InternetService_No',\n",
      "       'OnlineSecurity_No internet service', 'OnlineSecurity_Yes',\n",
      "       'OnlineBackup_No internet service', 'OnlineBackup_Yes',\n",
      "       'DeviceProtection_No internet service', 'DeviceProtection_Yes',\n",
      "       'TechSupport_No internet service', 'TechSupport_Yes',\n",
      "       'StreamingTV_No internet service', 'StreamingTV_Yes',\n",
      "       'StreamingMovies_No internet service', 'StreamingMovies_Yes',\n",
      "       'Contract_One year', 'Contract_Two year',\n",
      "       'PaymentMethod_Credit card (automatic)',\n",
      "       'PaymentMethod_Electronic check', 'PaymentMethod_Mailed check',\n",
      "       'tenure_bins'],\n",
      "      dtype='object')\n"
     ]
    }
   ],
   "source": [
    "print(df.head())\n",
    "print(df.columns)"
   ]
  },
  {
   "cell_type": "markdown",
   "id": "e9a204ad",
   "metadata": {},
   "source": [
    "## Create Interaction Terms"
   ]
  },
  {
   "cell_type": "code",
   "execution_count": 4,
   "id": "2e87bb62",
   "metadata": {},
   "outputs": [],
   "source": [
    "# Interaction between 'tenure' and 'MonthlyCharges'\n",
    "df['tenure_monthlycharges_interaction'] = df['tenure'] * df['MonthlyCharges']\n",
    "\n",
    "# Interaction between 'tenure' and 'TotalCharges'\n",
    "df['tenure_totalcharges_interaction'] = df['tenure'] * df['TotalCharges']"
   ]
  },
  {
   "cell_type": "markdown",
   "id": "a64eea97",
   "metadata": {},
   "source": [
    "## Polynomial Features"
   ]
  },
  {
   "cell_type": "code",
   "execution_count": 5,
   "id": "7b306eec",
   "metadata": {},
   "outputs": [],
   "source": [
    "poly = PolynomialFeatures(degree=2, include_bias=False)\n",
    "features = df[['tenure', 'MonthlyCharges']]\n",
    "poly_features = poly.fit_transform(features)\n",
    "poly_feature_names = poly.get_feature_names_out(['tenure', 'MonthlyCharges'])\n",
    "\n",
    "# Create a DataFrame from the polynomial features with unique column names\n",
    "poly_features_df = pd.DataFrame(poly_features, columns=poly_feature_names)\n",
    "\n",
    "# Concatenate only non-overlapping columns\n",
    "overlap_columns = set(df.columns).intersection(set(poly_features_df.columns))\n",
    "df = pd.concat([df, poly_features_df.loc[:, ~poly_features_df.columns.isin(overlap_columns)]], axis=1)\n",
    "\n",
    "## Normalize 'MonthlyCharges'\n",
    "scaler = StandardScaler()\n",
    "df['MonthlyCharges_scaled'] = scaler.fit_transform(df[['MonthlyCharges']])"
   ]
  },
  {
   "cell_type": "markdown",
   "id": "51fd7ffc",
   "metadata": {},
   "source": [
    "## Save the Enhanced Data"
   ]
  },
  {
   "cell_type": "code",
   "execution_count": 6,
   "id": "0e758c9f",
   "metadata": {},
   "outputs": [],
   "source": [
    "df.to_csv('enhanced_feature_data.csv', index=False)"
   ]
  },
  {
   "cell_type": "markdown",
   "id": "0c1991e4",
   "metadata": {},
   "source": [
    "## Visualize Some Data"
   ]
  },
  {
   "cell_type": "code",
   "execution_count": 7,
   "id": "4261f531",
   "metadata": {},
   "outputs": [
    {
     "data": {
      "image/png": "[encoded data removed]",
      "text/plain": [
       "<Figure size 640x480 with 1 Axes>"
      ]
     },
     "metadata": {},
     "output_type": "display_data"
    }
   ],
   "source": [
    "## Visualize the Distribution of 'tenure_bins'\n",
    "sns.countplot(x='tenure_bins', data=df)\n",
    "plt.title('Distribution of Tenure Bins')\n",
    "plt.show()"
   ]
  }
 ],
 "metadata": {
  "kernelspec": {
   "display_name": "Python 3 (ipykernel)",
   "language": "python",
   "name": "python3"
  },
  "language_info": {
   "codemirror_mode": {
    "name": "ipython",
    "version": 3
   },
   "file_extension": ".py",
   "mimetype": "text/x-python",
   "name": "python",
   "nbconvert_exporter": "python",
   "pygments_lexer": "ipython3",
   "version": "3.11.5"
  }
 },
 "nbformat": 4,
 "nbformat_minor": 5
}
